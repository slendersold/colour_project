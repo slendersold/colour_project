{
 "cells": [
  {
   "cell_type": "code",
   "execution_count": 1,
   "metadata": {},
   "outputs": [],
   "source": [
    "import numpy as np\n",
    "import pandas as pd\n",
    "import matplotlib.pyplot as plt\n",
    "from colour import XYZ_to_Lab, delta_E, XYZ_to_RGB, RGB_to_XYZ\n",
    "from colour.models import RGB_COLOURSPACE_sRGB\n",
    "import tifffile\n",
    "import zarr\n",
    "from colour_lib.utils.rawparser import RawDataParser\n",
    "from colour_lib.utils.circlelib import *\n",
    "from colour_lib.utils.CustomCCTF import CustomCCTF\n",
    "from colour.models.rgb import RGB_COLOURSPACES, RGB_to_XYZ"
   ]
  },
  {
   "cell_type": "markdown",
   "metadata": {},
   "source": [
    "# CCTFexps"
   ]
  },
  {
   "cell_type": "code",
   "execution_count": 5,
   "metadata": {},
   "outputs": [],
   "source": [
    "from colour.utilities import CanonicalMapping\n",
    "from colour.models.rgb import transfer_functions\n",
    "from colour.models.rgb.transfer_functions import gamma_function\n",
    "from functools import partial"
   ]
  },
  {
   "cell_type": "code",
   "execution_count": 10,
   "metadata": {},
   "outputs": [],
   "source": [
    "CUSTOM_DECODINGS: CanonicalMapping = CanonicalMapping(\n",
    "    {\n",
    "        \"Gamma 1.0\": partial(gamma_function, exponent=[1.0, 1.0, 1.0]),\n",
    "        \"Gamma 1.8\": partial(gamma_function, exponent=[1.8, 1.8, 1.8]),\n",
    "    }\n",
    ")\n",
    "transfer_functions.CCTF_DECODINGS.update(CUSTOM_DECODINGS)"
   ]
  },
  {
   "cell_type": "code",
   "execution_count": 12,
   "metadata": {},
   "outputs": [
    {
     "data": {
      "text/plain": [
       "array([ 3.48220225,  3.48220225,  3.48220225])"
      ]
     },
     "execution_count": 12,
     "metadata": {},
     "output_type": "execute_result"
    }
   ],
   "source": [
    "transfer_functions.cctf_decoding(value=[2, 2, 2], function=\"Gamma 1.8\")"
   ]
  },
  {
   "cell_type": "code",
   "execution_count": 16,
   "metadata": {},
   "outputs": [],
   "source": [
    "deco = transfer_functions.cctf_decoding"
   ]
  },
  {
   "cell_type": "code",
   "execution_count": 17,
   "metadata": {},
   "outputs": [
    {
     "data": {
      "text/plain": [
       "array([ 3.48220225,  3.48220225,  3.48220225])"
      ]
     },
     "execution_count": 17,
     "metadata": {},
     "output_type": "execute_result"
    }
   ],
   "source": [
    "deco(value=[2, 2, 2], function=\"Gamma 1.8\")"
   ]
  },
  {
   "cell_type": "code",
   "execution_count": 13,
   "metadata": {},
   "outputs": [],
   "source": [
    "CUSTOM_ENCODINGS: CanonicalMapping = CanonicalMapping(\n",
    "    {\n",
    "        \"Gamma 1.0\": partial(\n",
    "            gamma_function, exponent=[1.0 / 1.0, 1.0 / 1.0, 1.0 / 1.0]\n",
    "        ),\n",
    "        \"Gamma 1.8\": partial(\n",
    "            gamma_function, exponent=[1.0 / 1.8, 1.0 / 1.8, 1.0 / 1.8]\n",
    "        ),\n",
    "    }\n",
    ")\n",
    "transfer_functions.CCTF_ENCODINGS.update(CUSTOM_ENCODINGS)"
   ]
  },
  {
   "cell_type": "code",
   "execution_count": 15,
   "metadata": {},
   "outputs": [
    {
     "data": {
      "text/plain": [
       "array([ 2.,  2.,  2.])"
      ]
     },
     "execution_count": 15,
     "metadata": {},
     "output_type": "execute_result"
    }
   ],
   "source": [
    "transfer_functions.cctf_encoding(\n",
    "    value=[3.48220225, 3.48220225, 3.48220225], function=\"Gamma 1.8\"\n",
    ")"
   ]
  },
  {
   "cell_type": "code",
   "execution_count": 18,
   "metadata": {},
   "outputs": [],
   "source": [
    "enco = transfer_functions.cctf_encoding"
   ]
  },
  {
   "cell_type": "code",
   "execution_count": 3,
   "metadata": {},
   "outputs": [
    {
     "data": {
      "text/plain": [
       "array([ 2.,  2.,  2.])"
      ]
     },
     "execution_count": 3,
     "metadata": {},
     "output_type": "execute_result"
    }
   ],
   "source": [
    "CCTF = CustomCCTF()\n",
    "CCTF.apply_CCTF(\n",
    "    mode=\"encode\", cctf_type=\"Gamma 1.8\", image=[3.48220225, 3.48220225, 3.48220225]\n",
    ")"
   ]
  },
  {
   "cell_type": "markdown",
   "metadata": {},
   "source": [
    "# Download features"
   ]
  },
  {
   "cell_type": "code",
   "execution_count": 4,
   "metadata": {},
   "outputs": [],
   "source": [
    "global_dir = \"/uftp/src/\"\n",
    "rw = RawDataParser(reference_basepath=f\"{global_dir}calibration_data/\")\n",
    "SRGB_COLSPACE = RGB_COLOURSPACES[\"sRGB\"]\n",
    "NTSC_COLSPACE = RGB_COLOURSPACES[\"NTSC (1987)\"]"
   ]
  },
  {
   "cell_type": "code",
   "execution_count": 5,
   "metadata": {},
   "outputs": [],
   "source": [
    "def image_read(img, level, gammas):\n",
    "    store = tifffile.imread(img, aszarr=True)\n",
    "    zarr_pyramids = zarr.open(store, mode=\"r\")\n",
    "    image = np.array(zarr_pyramids[level]) / 255\n",
    "    image_revert = CCTF.apply_CCTF(mode=\"decode\", cctf_type=gammas, image=image)\n",
    "    return image_revert"
   ]
  },
  {
   "cell_type": "code",
   "execution_count": 6,
   "metadata": {},
   "outputs": [
    {
     "name": "stderr",
     "output_type": "stream",
     "text": [
      "<tifffile.TiffPage 6 @11318147692> missing data offset tag\n"
     ]
    }
   ],
   "source": [
    "images = {\n",
    "    \"R1_111\": image_read(\n",
    "        f\"{global_dir}palettes/Calib_R1_10_10_10_202402.tif\", 3, [1.0, 1.0, 1.0]\n",
    "    ),\n",
    "    \"Polaris\": image_read(\n",
    "        f\"{global_dir}palettes/Calib_Polaris_Scan3.qptiff\", 6, [1.8, 1.8, 1.8]\n",
    "    ),\n",
    "}\n",
    "images[\"R1_111_XYZ\"] = RGB_to_XYZ(RGB=images[\"R1_111\"], colourspace=SRGB_COLSPACE)\n",
    "\n",
    "images[\"Polaris_XYZ\"] = RGB_to_XYZ(RGB=images[\"R1_111\"], colourspace=NTSC_COLSPACE)"
   ]
  }
 ],
 "metadata": {
  "kernelspec": {
   "display_name": "GBvenv",
   "language": "python",
   "name": "python3"
  },
  "language_info": {
   "codemirror_mode": {
    "name": "ipython",
    "version": 3
   },
   "file_extension": ".py",
   "mimetype": "text/x-python",
   "name": "python",
   "nbconvert_exporter": "python",
   "pygments_lexer": "ipython3",
   "version": "3.10.12"
  }
 },
 "nbformat": 4,
 "nbformat_minor": 2
}
