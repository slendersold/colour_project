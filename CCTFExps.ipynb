{
 "cells": [
  {
   "cell_type": "code",
   "execution_count": 2,
   "metadata": {},
   "outputs": [],
   "source": [
    "import numpy as np\n",
    "import pandas as pd\n",
    "import matplotlib.pyplot as plt\n",
    "from colour import XYZ_to_RGB, RGB_to_XYZ\n",
    "from colour.models import RGB_COLOURSPACE_sRGB\n",
    "from colour.models.rgb import RGB_COLOURSPACES, RGB_to_XYZ\n",
    "\n",
    "from colour_lib.utils import *"
   ]
  },
  {
   "cell_type": "markdown",
   "metadata": {},
   "source": [
    "# CCTFexps"
   ]
  },
  {
   "cell_type": "code",
   "execution_count": 5,
   "metadata": {},
   "outputs": [],
   "source": [
    "from colour.utilities import CanonicalMapping\n",
    "from colour.models.rgb import transfer_functions\n",
    "from colour.models.rgb.transfer_functions import gamma_function\n",
    "from functools import partial"
   ]
  },
  {
   "cell_type": "code",
   "execution_count": 10,
   "metadata": {},
   "outputs": [],
   "source": [
    "CUSTOM_DECODINGS: CanonicalMapping = CanonicalMapping(\n",
    "    {\n",
    "        \"Gamma 1.0\": partial(gamma_function, exponent=[1.0, 1.0, 1.0]),\n",
    "        \"Gamma 1.8\": partial(gamma_function, exponent=[1.8, 1.8, 1.8]),\n",
    "    }\n",
    ")\n",
    "transfer_functions.CCTF_DECODINGS.update(CUSTOM_DECODINGS)"
   ]
  },
  {
   "cell_type": "code",
   "execution_count": 12,
   "metadata": {},
   "outputs": [
    {
     "data": {
      "text/plain": [
       "array([ 3.48220225,  3.48220225,  3.48220225])"
      ]
     },
     "execution_count": 12,
     "metadata": {},
     "output_type": "execute_result"
    }
   ],
   "source": [
    "transfer_functions.cctf_decoding(value=[2, 2, 2], function=\"Gamma 1.8\")"
   ]
  },
  {
   "cell_type": "code",
   "execution_count": 16,
   "metadata": {},
   "outputs": [],
   "source": [
    "deco = transfer_functions.cctf_decoding"
   ]
  },
  {
   "cell_type": "code",
   "execution_count": 17,
   "metadata": {},
   "outputs": [
    {
     "data": {
      "text/plain": [
       "array([ 3.48220225,  3.48220225,  3.48220225])"
      ]
     },
     "execution_count": 17,
     "metadata": {},
     "output_type": "execute_result"
    }
   ],
   "source": [
    "deco(value=[2, 2, 2], function=\"Gamma 1.8\")"
   ]
  },
  {
   "cell_type": "code",
   "execution_count": 13,
   "metadata": {},
   "outputs": [],
   "source": [
    "CUSTOM_ENCODINGS: CanonicalMapping = CanonicalMapping(\n",
    "    {\n",
    "        \"Gamma 1.0\": partial(\n",
    "            gamma_function, exponent=[1.0 / 1.0, 1.0 / 1.0, 1.0 / 1.0]\n",
    "        ),\n",
    "        \"Gamma 1.8\": partial(\n",
    "            gamma_function, exponent=[1.0 / 1.8, 1.0 / 1.8, 1.0 / 1.8]\n",
    "        ),\n",
    "    }\n",
    ")\n",
    "transfer_functions.CCTF_ENCODINGS.update(CUSTOM_ENCODINGS)"
   ]
  },
  {
   "cell_type": "code",
   "execution_count": 15,
   "metadata": {},
   "outputs": [
    {
     "data": {
      "text/plain": [
       "array([ 2.,  2.,  2.])"
      ]
     },
     "execution_count": 15,
     "metadata": {},
     "output_type": "execute_result"
    }
   ],
   "source": [
    "transfer_functions.cctf_encoding(\n",
    "    value=[3.48220225, 3.48220225, 3.48220225], function=\"Gamma 1.8\"\n",
    ")"
   ]
  },
  {
   "cell_type": "code",
   "execution_count": 18,
   "metadata": {},
   "outputs": [],
   "source": [
    "enco = transfer_functions.cctf_encoding"
   ]
  },
  {
   "cell_type": "code",
   "execution_count": 3,
   "metadata": {},
   "outputs": [
    {
     "data": {
      "text/plain": [
       "array([ 2.,  2.,  2.])"
      ]
     },
     "execution_count": 3,
     "metadata": {},
     "output_type": "execute_result"
    }
   ],
   "source": [
    "CCTF = CustomCCTF()\n",
    "CCTF.apply_CCTF(\n",
    "    mode=\"encode\", cctf_type=\"Gamma 1.8\", image=[3.48220225, 3.48220225, 3.48220225]\n",
    ")"
   ]
  },
  {
   "cell_type": "markdown",
   "metadata": {},
   "source": [
    "# Download features"
   ]
  },
  {
   "cell_type": "code",
   "execution_count": 4,
   "metadata": {},
   "outputs": [],
   "source": [
    "global_dir = \"/uftp/src/\"\n",
    "rw = RawDataParser(reference_basepath=f\"{global_dir}calibration_data/\")\n",
    "SRGB_COLSPACE = RGB_COLOURSPACES[\"sRGB\"]\n",
    "NTSC_COLSPACE = RGB_COLOURSPACES[\"NTSC (1987)\"]"
   ]
  },
  {
   "cell_type": "code",
   "execution_count": 6,
   "metadata": {},
   "outputs": [
    {
     "name": "stderr",
     "output_type": "stream",
     "text": [
      "<tifffile.TiffPage 6 @11318147692> missing data offset tag\n"
     ]
    }
   ],
   "source": [
    "images = {\n",
    "    \"R1_111\": image_read(\n",
    "        f\"{global_dir}palettes/Calib_R1_10_10_10_202402.tif\", 3, [1.0, 1.0, 1.0]\n",
    "    ),\n",
    "    \"Polaris\": image_read(\n",
    "        f\"{global_dir}palettes/Calib_Polaris_Scan3.qptiff\", 6, [1.8, 1.8, 1.8]\n",
    "    ),\n",
    "}\n",
    "images[\"R1_111_XYZ\"] = RGB_to_XYZ(\n",
    "    RGB=images[\"R1_111\"], colourspace=RGB_COLOURSPACES[\"sRGB\"]\n",
    ")\n",
    "\n",
    "images[\"Polaris_XYZ\"] = RGB_to_XYZ(\n",
    "    RGB=images[\"R1_111\"], colourspace=RGB_COLOURSPACES[\"NTSC (1987)\"]\n",
    ")"
   ]
  },
  {
   "cell_type": "code",
   "execution_count": 7,
   "metadata": {},
   "outputs": [
    {
     "data": {
      "text/plain": [
       "array([[ 0.56940154,  0.62848042,  0.55641022],\n",
       "       [ 0.6524309 ,  0.41373774,  0.59928695],\n",
       "       [ 0.68089407,  0.5962558 ,  0.56948365],\n",
       "       [ 0.66085797,  0.62014433,  0.5852964 ],\n",
       "       [ 0.50428036,  0.61228082,  0.57946978],\n",
       "       [ 0.57089032,  0.33876423,  0.4945139 ],\n",
       "       [ 0.659932  ,  0.61190162,  0.62503012],\n",
       "       [ 0.64086033,  0.60351873,  0.59805213],\n",
       "       [ 0.65453072,  0.61880213,  0.6111183 ],\n",
       "       [ 0.62597955,  0.41697983,  0.57717588],\n",
       "       [ 0.62701186,  0.39844651,  0.57983778],\n",
       "       [ 0.56786149,  0.63239208,  0.57190246],\n",
       "       [ 0.58402363,  0.32074526,  0.47593254],\n",
       "       [ 0.69128845,  0.60422514,  0.6179205 ],\n",
       "       [ 0.61709614,  0.41082251,  0.56598131],\n",
       "       [ 0.64331075,  0.62621434,  0.5692799 ],\n",
       "       [ 0.52782462,  0.31990648,  0.4581768 ],\n",
       "       [ 0.56386045,  0.32358779,  0.49847484],\n",
       "       [ 0.53878191,  0.32561119,  0.49536935],\n",
       "       [ 0.6724209 ,  0.60602319,  0.58801689],\n",
       "       [ 0.4992837 ,  0.30874934,  0.45028701],\n",
       "       [ 0.73541691,  0.54517889,  0.52426122],\n",
       "       [ 0.60274776,  0.32279699,  0.48347765],\n",
       "       [ 0.59695171,  0.55942223,  0.49349585]])"
      ]
     },
     "execution_count": 7,
     "metadata": {},
     "output_type": "execute_result"
    }
   ],
   "source": [
    "from sklearn.ensemble import RandomForestRegressor\n",
    "\n",
    "reg = RandomForestRegressor(max_depth=2, random_state=0)\n",
    "reg.fit(np.random.rand(24, 3), np.random.rand(24, 3))\n",
    "reg.predict(np.random.rand(24, 3))"
   ]
  }
 ],
 "metadata": {
  "kernelspec": {
   "display_name": "GBvenv",
   "language": "python",
   "name": "python3"
  },
  "language_info": {
   "codemirror_mode": {
    "name": "ipython",
    "version": 3
   },
   "file_extension": ".py",
   "mimetype": "text/x-python",
   "name": "python",
   "nbconvert_exporter": "python",
   "pygments_lexer": "ipython3",
   "version": "3.11.3"
  }
 },
 "nbformat": 4,
 "nbformat_minor": 2
}
