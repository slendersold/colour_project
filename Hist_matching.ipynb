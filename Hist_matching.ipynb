{
  "cells": [
    {
      "cell_type": "markdown",
      "metadata": {
        "id": "EVF9IzgkYJPq"
      },
      "source": [
        "# uploading data"
      ]
    },
    {
      "cell_type": "code",
      "execution_count": 29,
      "metadata": {
        "id": "kUVsDcjpgLer"
      },
      "outputs": [],
      "source": [
        "#from PIL import ImageOps\n",
        "import zipfile\n",
        "import matplotlib.pyplot as plt\n",
        "import numpy as np\n",
        "import xmltodict\n",
        "from numcodecs import Blosc\n",
        "import numpy as np\n",
        "import zarr as zarr\n",
        "import tifffile as tf\n",
        "from PIL import Image as im\n",
        "import cv2 #for servers install package through: pip install opencv-contrib-python-headless\n",
        "from skimage.io import imread\n",
        "from skimage.exposure import cumulative_distribution #calculate the cumulative pixel value\n",
        "import imagecodecs\n",
        "from skimage import exposure\n",
        "from skimage.exposure import match_histograms"
      ]
    },
    {
      "cell_type": "code",
      "execution_count": 30,
      "metadata": {},
      "outputs": [],
      "source": [
        "polaris=tf.imread('/uftp/src/lowest_levels/polaris.tif')\n",
        "huron_101010=tf.imread('/uftp/src/lowest_levels/huron_IHC_101010.tif')\n",
        "huron_111219=tf.imread('/uftp/src/lowest_levels/huron_IHC_111219.tif')"
      ]
    },
    {
      "cell_type": "code",
      "execution_count": 31,
      "metadata": {
        "id": "WZmlLILnynQq"
      },
      "outputs": [],
      "source": [
        "polaris_a1=polaris[455:590, 100:235, :]\n",
        "#plt.imshow(polaris_a1)"
      ]
    },
    {
      "cell_type": "code",
      "execution_count": 41,
      "metadata": {
        "id": "3FtL-S0nzz15"
      },
      "outputs": [],
      "source": [
        "huron_a1_10=huron_101010[303:438, 64:199, :]\n",
        "#plt.imshow(huron_a1_10)"
      ]
    },
    {
      "cell_type": "code",
      "execution_count": 33,
      "metadata": {
        "colab": {
          "base_uri": "https://localhost:8080/",
          "height": 451
        },
        "id": "JGHBADwsAFWV",
        "outputId": "0444a0bd-2b7f-4ea5-87eb-8afd1a4fc838"
      },
      "outputs": [],
      "source": [
        "huron_a1_3gammas=huron_111219[205:340, 488:623, :]\n",
        "#plt.imshow(huron_a1_3gammas)"
      ]
    },
    {
      "cell_type": "markdown",
      "metadata": {
        "id": "BepJ8Uvjqcmj"
      },
      "source": [
        "# gammas"
      ]
    },
    {
      "cell_type": "code",
      "execution_count": 35,
      "metadata": {
        "id": "y_QbPmOFBbZT"
      },
      "outputs": [],
      "source": [
        "#transfer function\n",
        "def transfer_function(img, values, mode='linearization'):\n",
        "  '''\n",
        "  This function takes the image and performs transformation based on two modes: default 'linearization' outputs image with 1.0 gamma,\n",
        "  any other mode (e.g. 'correction') applies gamma(s) to an image. Single float/int number or list of numbers can be inputed\n",
        "  as 'values' parameter\n",
        "  '''\n",
        "\n",
        "  img_norm=img/255.0 #converts array values from 0-255 range to 0-1\n",
        "  if isinstance(values, (float, int)): #this part is needed to handle both single numbers and a list of gammas\n",
        "    values = [values]\n",
        "  if len(values)!=1:\n",
        "    transposed=np.transpose(img_norm, (2,0,1)) #dimension with color channels becomes the first in order\n",
        "    modified=np.empty_like(transposed)\n",
        "    for i, gamma in enumerate(values):\n",
        "      modified[i]=transposed[i]**(gamma if mode == 'linearization' else 1/gamma)\n",
        "    modified=np.transpose(modified, (1,2,0))\n",
        "  else:\n",
        "    gamma = values[0]\n",
        "    modified=img_norm**(gamma if mode == 'linearization' else 1/gamma)\n",
        "\n",
        "  modified=(modified*255).astype(np.uint8)\n",
        "  plt.imshow(modified)\n",
        "  return modified"
      ]
    }
  ],
  "metadata": {
    "colab": {
      "provenance": []
    },
    "kernelspec": {
      "display_name": "sassy_env",
      "language": "python",
      "name": "sassy_env"
    },
    "language_info": {
      "codemirror_mode": {
        "name": "ipython",
        "version": 3
      },
      "file_extension": ".py",
      "mimetype": "text/x-python",
      "name": "python",
      "nbconvert_exporter": "python",
      "pygments_lexer": "ipython3",
      "version": "3.10.12"
    }
  },
  "nbformat": 4,
  "nbformat_minor": 0
}
